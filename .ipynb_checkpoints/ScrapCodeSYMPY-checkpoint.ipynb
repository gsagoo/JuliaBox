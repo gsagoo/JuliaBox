{
 "cells": [
  {
   "cell_type": "code",
   "execution_count": 27,
   "metadata": {
    "collapsed": false
   },
   "outputs": [
    {
     "ename": "LoadError",
     "evalue": "syntax: extra token \"SymPy\" after end of expression",
     "output_type": "error",
     "traceback": [
      "syntax: extra token \"SymPy\" after end of expression",
      "",
      " in execute_request(::ZMQ.Socket, ::IJulia.Msg) at /home/penguin/.julia/v0.5/IJulia/src/execute_request.jl:157",
      " in eventloop(::ZMQ.Socket) at /home/penguin/.julia/v0.5/IJulia/src/eventloop.jl:8",
      " in (::IJulia.##13#19)() at ./task.jl:360"
     ]
    }
   ],
   "source": [
    "using SymPy\n",
    "from SymPy import apart"
   ]
  },
  {
   "cell_type": "code",
   "execution_count": 2,
   "metadata": {
    "collapsed": false
   },
   "outputs": [
    {
     "name": "stderr",
     "output_type": "stream",
     "text": [
      "\u001b[1m\u001b[34mINFO: Cloning cache of MacroTools from https://github.com/MikeInnes/MacroTools.jl.git\n",
      "\u001b[0m\u001b[1m\u001b[34mINFO: Cloning cache of PyCall from https://github.com/JuliaPy/PyCall.jl.git\n",
      "\u001b[0m\u001b[1m\u001b[34mINFO: Cloning cache of RecipesBase from https://github.com/JuliaPlots/RecipesBase.jl.git\n",
      "\u001b[0m\u001b[1m\u001b[34mINFO: Cloning cache of SymPy from https://github.com/JuliaPy/SymPy.jl.git\n",
      "\u001b[0m\u001b[1m\u001b[34mINFO: Installing MacroTools v0.3.4\n",
      "\u001b[0m\u001b[1m\u001b[34mINFO: Installing PyCall v1.9.0\n",
      "\u001b[0m\u001b[1m\u001b[34mINFO: Installing RecipesBase v0.1.0\n",
      "\u001b[0m\u001b[1m\u001b[34mINFO: Installing SymPy v0.4.0\n",
      "\u001b[0m\u001b[1m\u001b[34mINFO: Building Conda\n",
      "\u001b[0m\u001b[1m\u001b[34mINFO: Building PyCall\n",
      "\u001b[0m\u001b[1m\u001b[34mINFO: PyCall is using python (Python 3.5.2) at /home/penguin/anaconda3/bin/python, libpython = /home/penguin/anaconda3/lib/libpython3.5m\n",
      "\u001b[0m\u001b[1m\u001b[34mINFO: /home/penguin/.julia/v0.5/PyCall/deps/deps.jl has been updated\n",
      "\u001b[0m\u001b[1m\u001b[34mINFO: /home/penguin/.julia/v0.5/PyCall/deps/PYTHON has been updated\n",
      "\u001b[0m\u001b[1m\u001b[34mINFO: Package database updated\n",
      "\u001b[0m"
     ]
    }
   ],
   "source": [
    "Pkg.add(\"SymPy\")"
   ]
  },
  {
   "cell_type": "code",
   "execution_count": 11,
   "metadata": {
    "collapsed": false
   },
   "outputs": [
    {
     "data": {
      "text/plain": [
       "g (generic function with 1 method)"
      ]
     },
     "execution_count": 11,
     "metadata": {},
     "output_type": "execute_result"
    }
   ],
   "source": [
    "g(x) =  (x^2+x+2)/(3-2*x-x^2)"
   ]
  },
  {
   "cell_type": "code",
   "execution_count": 12,
   "metadata": {
    "collapsed": false
   },
   "outputs": [
    {
     "data": {
      "text/latex": [
       "$$- x - \\log{\\left (x - 1 \\right )} + 2 \\log{\\left (x + 3 \\right )}$$"
      ],
      "text/plain": [
       "-x - log(x - 1) + 2⋅log(x + 3)"
      ]
     },
     "execution_count": 12,
     "metadata": {},
     "output_type": "execute_result"
    }
   ],
   "source": [
    "integrate(g)"
   ]
  },
  {
   "cell_type": "code",
   "execution_count": 9,
   "metadata": {
    "collapsed": false
   },
   "outputs": [
    {
     "data": {
      "text/plain": [
       "f (generic function with 1 method)"
      ]
     },
     "execution_count": 9,
     "metadata": {},
     "output_type": "execute_result"
    }
   ],
   "source": [
    "f"
   ]
  },
  {
   "cell_type": "code",
   "execution_count": 37,
   "metadata": {
    "collapsed": false
   },
   "outputs": [
    {
     "data": {
      "text/latex": [
       "$$-1 + \\frac{2}{x + 3} - \\frac{1}{x - 1}$$"
      ],
      "text/plain": [
       "       2       1  \n",
       "-1 + ───── - ─────\n",
       "     x + 3   x - 1"
      ]
     },
     "execution_count": 37,
     "metadata": {},
     "output_type": "execute_result"
    }
   ],
   "source": [
    "apart((x^2+x+2)/(3-2*x-x^2),x)"
   ]
  },
  {
   "cell_type": "code",
   "execution_count": 36,
   "metadata": {
    "collapsed": false
   },
   "outputs": [
    {
     "name": "stderr",
     "output_type": "stream",
     "text": [
      "\u001b[1m\u001b[31mWARNING: pyeval is deprecated.  Use py\"str(x)\" instead.  Use $ interpolation to substitute Julia variables and expressions into Python.\u001b[0m\n",
      " in #pyeval#72(::Array{Any,1}, ::Function, ::String, ::Type{PyCall.PyAny}, ::PyCall.PyDict{AbstractString,PyCall.PyObject,true}, ::Int64) at /home/penguin/.julia/v0.5/PyCall/src/pyeval.jl:58\n",
      " in (::PyCall.#kw##pyeval)(::Array{Any,1}, ::PyCall.#pyeval, ::String, ::Type{PyCall.PyAny}, ::PyCall.PyDict{AbstractString,PyCall.PyObject,true}, ::Int64) at ./<missing>:0\n",
      " in jprint(::SymPy.Sym) at /home/penguin/.julia/v0.5/SymPy/src/display.jl:21\n",
      " in show_delim_array(::IOContext{Base.AbstractIOBuffer{Array{UInt8,1}}}, ::Tuple{SymPy.Sym,SymPy.Sym,SymPy.Sym,SymPy.Sym,SymPy.Sym,SymPy.Sym}, ::Char, ::Char, ::Char, ::Bool, ::Int64, ::Int64) at ./show.jl:355\n",
      " in limitstringmime(::MIME{Symbol(\"text/plain\")}, ::Tuple{SymPy.Sym,SymPy.Sym,SymPy.Sym,SymPy.Sym,SymPy.Sym,SymPy.Sym}) at /home/penguin/.julia/v0.5/IJulia/src/inline.jl:25\n",
      " in display_dict(::Tuple{SymPy.Sym,SymPy.Sym,SymPy.Sym,SymPy.Sym,SymPy.Sym,SymPy.Sym}) at /home/penguin/.julia/v0.5/IJulia/src/execute_request.jl:28\n",
      " in execute_request(::ZMQ.Socket, ::IJulia.Msg) at /home/penguin/.julia/v0.5/IJulia/src/execute_request.jl:188\n",
      " in eventloop(::ZMQ.Socket) at /home/penguin/.julia/v0.5/IJulia/src/eventloop.jl:8\n",
      " in (::IJulia.##13#19)() at ./task.jl:360\n",
      "while loading /home/penguin/.julia/v0.5/IJulia/src/kernel.jl, in expression starting on line 31\n",
      "\u001b[1m\u001b[31mWARNING: pyeval is deprecated.  Use py\"str(x)\" instead.  Use $ interpolation to substitute Julia variables and expressions into Python.\u001b[0m\n",
      " in #pyeval#72(::Array{Any,1}, ::Function, ::String, ::Type{PyCall.PyAny}, ::PyCall.PyDict{AbstractString,PyCall.PyObject,true}, ::Int64) at /home/penguin/.julia/v0.5/PyCall/src/pyeval.jl:58\n",
      " in (::PyCall.#kw##pyeval)(::Array{Any,1}, ::PyCall.#pyeval, ::String, ::Type{PyCall.PyAny}, ::PyCall.PyDict{AbstractString,PyCall.PyObject,true}, ::Int64) at ./<missing>:0\n",
      " in jprint(::SymPy.Sym) at /home/penguin/.julia/v0.5/SymPy/src/display.jl:21\n",
      " in show_delim_array(::IOContext{Base.AbstractIOBuffer{Array{UInt8,1}}}, ::Tuple{SymPy.Sym,SymPy.Sym,SymPy.Sym,SymPy.Sym,SymPy.Sym,SymPy.Sym}, ::Char, ::Char, ::Char, ::Bool, ::Int64, ::Int64) at ./show.jl:355\n",
      " in limitstringmime(::MIME{Symbol(\"text/plain\")}, ::Tuple{SymPy.Sym,SymPy.Sym,SymPy.Sym,SymPy.Sym,SymPy.Sym,SymPy.Sym}) at /home/penguin/.julia/v0.5/IJulia/src/inline.jl:25\n",
      " in display_dict(::Tuple{SymPy.Sym,SymPy.Sym,SymPy.Sym,SymPy.Sym,SymPy.Sym,SymPy.Sym}) at /home/penguin/.julia/v0.5/IJulia/src/execute_request.jl:28\n",
      " in execute_request(::ZMQ.Socket, ::IJulia.Msg) at /home/penguin/.julia/v0.5/IJulia/src/execute_request.jl:188\n",
      " in eventloop(::ZMQ.Socket) at /home/penguin/.julia/v0.5/IJulia/src/eventloop.jl:8\n",
      " in (::IJulia.##13#19)() at ./task.jl:360\n",
      "while loading /home/penguin/.julia/v0.5/IJulia/src/kernel.jl, in expression starting on line 31\n",
      "\u001b[1m\u001b[31mWARNING: pyeval is deprecated.  Use py\"str(x)\" instead.  Use $ interpolation to substitute Julia variables and expressions into Python.\u001b[0m\n",
      " in #pyeval#72(::Array{Any,1}, ::Function, ::String, ::Type{PyCall.PyAny}, ::PyCall.PyDict{AbstractString,PyCall.PyObject,true}, ::Int64) at /home/penguin/.julia/v0.5/PyCall/src/pyeval.jl:58\n",
      " in (::PyCall.#kw##pyeval)(::Array{Any,1}, ::PyCall.#pyeval, ::String, ::Type{PyCall.PyAny}, ::PyCall.PyDict{AbstractString,PyCall.PyObject,true}, ::Int64) at ./<missing>:0\n",
      " in jprint(::SymPy.Sym) at /home/penguin/.julia/v0.5/SymPy/src/display.jl:21\n",
      " in show_delim_array(::IOContext{Base.AbstractIOBuffer{Array{UInt8,1}}}, ::Tuple{SymPy.Sym,SymPy.Sym,SymPy.Sym,SymPy.Sym,SymPy.Sym,SymPy.Sym}, ::Char, ::Char, ::Char, ::Bool, ::Int64, ::Int64) at ./show.jl:355\n",
      " in limitstringmime(::MIME{Symbol(\"text/plain\")}, ::Tuple{SymPy.Sym,SymPy.Sym,SymPy.Sym,SymPy.Sym,SymPy.Sym,SymPy.Sym}) at /home/penguin/.julia/v0.5/IJulia/src/inline.jl:25\n",
      " in display_dict(::Tuple{SymPy.Sym,SymPy.Sym,SymPy.Sym,SymPy.Sym,SymPy.Sym,SymPy.Sym}) at /home/penguin/.julia/v0.5/IJulia/src/execute_request.jl:28\n",
      " in execute_request(::ZMQ.Socket, ::IJulia.Msg) at /home/penguin/.julia/v0.5/IJulia/src/execute_request.jl:188\n",
      " in eventloop(::ZMQ.Socket) at /home/penguin/.julia/v0.5/IJulia/src/eventloop.jl:8\n",
      " in (::IJulia.##13#19)() at ./task.jl:360\n",
      "while loading /home/penguin/.julia/v0.5/IJulia/src/kernel.jl, in expression starting on line 31\n",
      "\u001b[1m\u001b[31mWARNING: pyeval is deprecated.  Use py\"str(x)\" instead.  Use $ interpolation to substitute Julia variables and expressions into Python.\u001b[0m\n",
      " in #pyeval#72(::Array{Any,1}, ::Function, ::String, ::Type{PyCall.PyAny}, ::PyCall.PyDict{AbstractString,PyCall.PyObject,true}, ::Int64) at /home/penguin/.julia/v0.5/PyCall/src/pyeval.jl:58\n",
      " in (::PyCall.#kw##pyeval)(::Array{Any,1}, ::PyCall.#pyeval, ::String, ::Type{PyCall.PyAny}, ::PyCall.PyDict{AbstractString,PyCall.PyObject,true}, ::Int64) at ./<missing>:0\n",
      " in jprint(::SymPy.Sym) at /home/penguin/.julia/v0.5/SymPy/src/display.jl:21\n",
      " in show_delim_array(::IOContext{Base.AbstractIOBuffer{Array{UInt8,1}}}, ::Tuple{SymPy.Sym,SymPy.Sym,SymPy.Sym,SymPy.Sym,SymPy.Sym,SymPy.Sym}, ::Char, ::Char, ::Char, ::Bool, ::Int64, ::Int64) at ./show.jl:355\n",
      " in limitstringmime(::MIME{Symbol(\"text/plain\")}, ::Tuple{SymPy.Sym,SymPy.Sym,SymPy.Sym,SymPy.Sym,SymPy.Sym,SymPy.Sym}) at /home/penguin/.julia/v0.5/IJulia/src/inline.jl:25\n",
      " in display_dict(::Tuple{SymPy.Sym,SymPy.Sym,SymPy.Sym,SymPy.Sym,SymPy.Sym,SymPy.Sym}) at /home/penguin/.julia/v0.5/IJulia/src/execute_request.jl:28\n",
      " in execute_request(::ZMQ.Socket, ::IJulia.Msg) at /home/penguin/.julia/v0.5/IJulia/src/execute_request.jl:188\n",
      " in eventloop(::ZMQ.Socket) at /home/penguin/.julia/v0.5/IJulia/src/eventloop.jl:8\n",
      " in (::IJulia.##13#19)() at ./task.jl:360\n",
      "while loading /home/penguin/.julia/v0.5/IJulia/src/kernel.jl, in expression starting on line 31\n",
      "\u001b[1m\u001b[31mWARNING: pyeval is deprecated.  Use py\"str(x)\" instead.  Use $ interpolation to substitute Julia variables and expressions into Python.\u001b[0m\n",
      " in #pyeval#72(::Array{Any,1}, ::Function, ::String, ::Type{PyCall.PyAny}, ::PyCall.PyDict{AbstractString,PyCall.PyObject,true}, ::Int64) at /home/penguin/.julia/v0.5/PyCall/src/pyeval.jl:58\n",
      " in (::PyCall.#kw##pyeval)(::Array{Any,1}, ::PyCall.#pyeval, ::String, ::Type{PyCall.PyAny}, ::PyCall.PyDict{AbstractString,PyCall.PyObject,true}, ::Int64) at ./<missing>:0\n",
      " in jprint(::SymPy.Sym) at /home/penguin/.julia/v0.5/SymPy/src/display.jl:21\n",
      " in show_delim_array(::IOContext{Base.AbstractIOBuffer{Array{UInt8,1}}}, ::Tuple{SymPy.Sym,SymPy.Sym,SymPy.Sym,SymPy.Sym,SymPy.Sym,SymPy.Sym}, ::Char, ::Char, ::Char, ::Bool, ::Int64, ::Int64) at ./show.jl:355\n",
      " in limitstringmime(::MIME{Symbol(\"text/plain\")}, ::Tuple{SymPy.Sym,SymPy.Sym,SymPy.Sym,SymPy.Sym,SymPy.Sym,SymPy.Sym}) at /home/penguin/.julia/v0.5/IJulia/src/inline.jl:25\n",
      " in display_dict(::Tuple{SymPy.Sym,SymPy.Sym,SymPy.Sym,SymPy.Sym,SymPy.Sym,SymPy.Sym}) at /home/penguin/.julia/v0.5/IJulia/src/execute_request.jl:28\n",
      " in execute_request(::ZMQ.Socket, ::IJulia.Msg) at /home/penguin/.julia/v0.5/IJulia/src/execute_request.jl:188\n",
      " in eventloop(::ZMQ.Socket) at /home/penguin/.julia/v0.5/IJulia/src/eventloop.jl:8\n",
      " in (::"
     ]
    },
    {
     "data": {
      "text/plain": [
       "(a,b,c,A,B,x)"
      ]
     },
     "execution_count": 36,
     "metadata": {},
     "output_type": "execute_result"
    },
    {
     "name": "stderr",
     "output_type": "stream",
     "text": [
      "IJulia.##13#19)() at ./task.jl:360\n",
      "while loading /home/penguin/.julia/v0.5/IJulia/src/kernel.jl, in expression starting on line 31\n",
      "\u001b[1m\u001b[31mWARNING: pyeval is deprecated.  Use py\"str(x)\" instead.  Use $ interpolation to substitute Julia variables and expressions into Python.\u001b[0m\n",
      " in #pyeval#72(::Array{Any,1}, ::Function, ::String, ::Type{PyCall.PyAny}, ::PyCall.PyDict{AbstractString,PyCall.PyObject,true}, ::Int64) at /home/penguin/.julia/v0.5/PyCall/src/pyeval.jl:58\n",
      " in (::PyCall.#kw##pyeval)(::Array{Any,1}, ::PyCall.#pyeval, ::String, ::Type{PyCall.PyAny}, ::PyCall.PyDict{AbstractString,PyCall.PyObject,true}, ::Int64) at ./<missing>:0\n",
      " in jprint(::SymPy.Sym) at /home/penguin/.julia/v0.5/SymPy/src/display.jl:21\n",
      " in show_delim_array(::IOContext{Base.AbstractIOBuffer{Array{UInt8,1}}}, ::Tuple{SymPy.Sym,SymPy.Sym,SymPy.Sym,SymPy.Sym,SymPy.Sym,SymPy.Sym}, ::Char, ::Char, ::Char, ::Bool, ::Int64, ::Int64) at ./show.jl:355\n",
      " in limitstringmime(::MIME{Symbol(\"text/plain\")}, ::Tuple{SymPy.Sym,SymPy.Sym,SymPy.Sym,SymPy.Sym,SymPy.Sym,SymPy.Sym}) at /home/penguin/.julia/v0.5/IJulia/src/inline.jl:25\n",
      " in display_dict(::Tuple{SymPy.Sym,SymPy.Sym,SymPy.Sym,SymPy.Sym,SymPy.Sym,SymPy.Sym}) at /home/penguin/.julia/v0.5/IJulia/src/execute_request.jl:28\n",
      " in execute_request(::ZMQ.Socket, ::IJulia.Msg) at /home/penguin/.julia/v0.5/IJulia/src/execute_request.jl:188\n",
      " in eventloop(::ZMQ.Socket) at /home/penguin/.julia/v0.5/IJulia/src/eventloop.jl:8\n",
      " in (::IJulia.##13#19)() at ./task.jl:360\n",
      "while loading /home/penguin/.julia/v0.5/IJulia/src/kernel.jl, in expression starting on line 31\n"
     ]
    }
   ],
   "source": [
    "a,b,c,A,B,x = symbols(\"a,b,c,A, B,x\", real=true)"
   ]
  },
  {
   "cell_type": "code",
   "execution_count": null,
   "metadata": {
    "collapsed": true
   },
   "outputs": [],
   "source": []
  }
 ],
 "metadata": {
  "anaconda-cloud": {},
  "kernelspec": {
   "display_name": "Julia 0.5.0",
   "language": "julia",
   "name": "julia-0.5"
  },
  "language_info": {
   "file_extension": ".jl",
   "mimetype": "application/julia",
   "name": "julia",
   "version": "0.5.0"
  }
 },
 "nbformat": 4,
 "nbformat_minor": 1
}
